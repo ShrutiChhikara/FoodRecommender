{
  "nbformat": 4,
  "nbformat_minor": 0,
  "metadata": {
    "colab": {
      "name": "FoodRecSys_WEBApp [Final].ipynb",
      "provenance": []
    },
    "kernelspec": {
      "name": "python3",
      "display_name": "Python 3"
    },
    "language_info": {
      "name": "python"
    }
  },
  "cells": [
    {
      "cell_type": "code",
      "execution_count": 1,
      "metadata": {
        "id": "JTzEbueKOG1S"
      },
      "outputs": [],
      "source": [
        "import pandas as pd\n",
        "import numpy as np\n",
        "from scipy.sparse import csr_matrix\n",
        "from sklearn.neighbors import NearestNeighbors\n",
        "import matplotlib.pyplot as plt\n",
        "import seaborn as sns"
      ]
    },
    {
      "cell_type": "code",
      "source": [
        "! pip install streamlit -q"
      ],
      "metadata": {
        "colab": {
          "base_uri": "https://localhost:8080/"
        },
        "id": "wkB82vMfOQUY",
        "outputId": "546a6b45-3fcb-4c61-9dfc-d933ceb58093"
      },
      "execution_count": 2,
      "outputs": [
        {
          "output_type": "stream",
          "name": "stdout",
          "text": [
            "\u001b[K     |████████████████████████████████| 9.1 MB 4.9 MB/s \n",
            "\u001b[K     |████████████████████████████████| 235 kB 56.5 MB/s \n",
            "\u001b[K     |████████████████████████████████| 181 kB 49.6 MB/s \n",
            "\u001b[K     |████████████████████████████████| 4.3 MB 30.3 MB/s \n",
            "\u001b[K     |████████████████████████████████| 164 kB 46.3 MB/s \n",
            "\u001b[K     |████████████████████████████████| 78 kB 6.4 MB/s \n",
            "\u001b[K     |████████████████████████████████| 63 kB 1.6 MB/s \n",
            "\u001b[K     |████████████████████████████████| 132 kB 56.4 MB/s \n",
            "\u001b[K     |████████████████████████████████| 793 kB 49.9 MB/s \n",
            "\u001b[K     |████████████████████████████████| 132 kB 81.1 MB/s \n",
            "\u001b[K     |████████████████████████████████| 423 kB 53.0 MB/s \n",
            "\u001b[K     |████████████████████████████████| 381 kB 52.6 MB/s \n",
            "\u001b[K     |████████████████████████████████| 51 kB 6.6 MB/s \n",
            "\u001b[?25h  Building wheel for validators (setup.py) ... \u001b[?25l\u001b[?25hdone\n",
            "\u001b[31mERROR: pip's dependency resolver does not currently take into account all the packages that are installed. This behaviour is the source of the following dependency conflicts.\n",
            "nbclient 0.6.6 requires traitlets>=5.2.2, but you have traitlets 5.1.1 which is incompatible.\n",
            "jupyter-console 5.2.0 requires prompt-toolkit<2.0.0,>=1.0.0, but you have prompt-toolkit 3.0.30 which is incompatible.\n",
            "google-colab 1.0.0 requires ipykernel~=4.10, but you have ipykernel 6.15.1 which is incompatible.\n",
            "google-colab 1.0.0 requires ipython~=5.5.0, but you have ipython 7.34.0 which is incompatible.\n",
            "google-colab 1.0.0 requires tornado~=5.1.0, but you have tornado 6.2 which is incompatible.\u001b[0m\n"
          ]
        }
      ]
    },
    {
      "cell_type": "code",
      "source": [
        "%%writefile app.py\n",
        "import streamlit as st\n",
        "\n",
        "st.title(\"Food Recommendation System\")\n",
        "st.text(\"Let us help you with ordering\")\n",
        "st.image(\"foodimage.jpg\")\n",
        "\n",
        "## nav = st.sidebar.radio(\"Navigation\",[\"Home\",\"IF Necessary 1\",\"If Necessary 2\"])\n",
        "\n",
        "st.subheader(\"Whats your preference?\")\n",
        "vegn = st.radio(\"Vegetables or none!\",[\"veg\",\"non-veg\"],index = 1) \n",
        "\n",
        "st.subheader(\"What Cuisine do you prefer?\")\n",
        "cuisine = st.selectbox(\"Choose your favourite!\",['Healthy Food', 'Snack', 'Dessert', 'Japanese', 'Indian', 'French',\n",
        "       'Mexican', 'Italian', 'Chinese', 'Beverage', 'Thai'])\n",
        "\n",
        "st.subheader(\"How well do you want the dish to be?\")  #RATING\n",
        "val = st.slider(\"from poor to the best!\",0,10)\n",
        "\n",
        "import pandas as pd\n",
        "food = pd.read_csv(r\"food.csv\")\n",
        "ratings = pd.read_csv(r\"ratings.csv\")\n",
        "combined = pd.merge(ratings, food, on='Food_ID')\n",
        "#ans = food.loc[(food.C_Type == cuisine) & (food.Veg_Non == vegn),['Name','C_Type','Veg_Non']]\n",
        "ans = combined.loc[(combined.C_Type == cuisine) & (combined.Veg_Non == vegn)& (combined.Rating >= val),['Name','C_Type','Veg_Non']]\n",
        "names = ans['Name'].tolist()\n",
        "\n",
        "import numpy as np\n",
        "x = np.array(names)\n",
        "ans1 = np.unique(x)\n",
        "\n",
        "finallist = \"\"\n",
        "dish = st.checkbox(\"Choose your Dish\")\n",
        "if dish == True:\n",
        "    finallist = st.selectbox(\"Our Choices\",ans1)\n",
        "\n",
        "\n",
        "##### IMPLEMENTING RECOMMENDER ######\n",
        "dataset = ratings.pivot_table(index='Food_ID',columns='User_ID',values='Rating')\n",
        "dataset.fillna(0,inplace=True)\n",
        "\n",
        "from scipy.sparse import csr_matrix\n",
        "csr_dataset = csr_matrix(dataset.values)\n",
        "dataset.reset_index(inplace=True)\n",
        "\n",
        "from sklearn.neighbors import NearestNeighbors\n",
        "model = NearestNeighbors(metric='cosine', algorithm='brute', n_neighbors=10, n_jobs=-1)\n",
        "model.fit(csr_dataset)\n",
        "\n",
        "def food_recommendation(Food_Name):\n",
        "    n = 10\n",
        "    FoodList = food[food['Name'].str.contains(Food_Name)]  \n",
        "    if len(FoodList):        \n",
        "        Foodi= FoodList.iloc[0]['Food_ID']\n",
        "        Foodi = dataset[dataset['Food_ID'] == Foodi].index[0]\n",
        "        distances , indices = model.kneighbors(csr_dataset[Foodi],n_neighbors=n+1)    \n",
        "        Food_indices = sorted(list(zip(indices.squeeze().tolist(),distances.squeeze().tolist())),key=lambda x: x[1])[:0:-1]\n",
        "        Recommendations = []\n",
        "        for val in Food_indices:\n",
        "            Foodi = dataset.iloc[val[0]]['Food_ID']\n",
        "            i = food[food['Food_ID'] == Foodi].index\n",
        "            Recommendations.append({'Name':food.iloc[i]['Name'].values[0],'Distance':val[1]})\n",
        "        df = pd.DataFrame(Recommendations,index=range(1,n+1))\n",
        "        return df['Name']\n",
        "    else:\n",
        "        return \"No Similar Foods.\"\n",
        "\n",
        "\n",
        "display = food_recommendation(finallist)\n",
        "#names1 = display['Name'].tolist()\n",
        "\n",
        "#x1 = np.array(names)\n",
        "#ans2 = np.unique(x1)\n",
        "if dish == True:\n",
        "    dish1 = st.checkbox(\"Other dishes with the same rating as you prefered : \")\n",
        "    if dish1 == True:\n",
        "        for i in display:\n",
        "            st.write(i)"
      ],
      "metadata": {
        "colab": {
          "base_uri": "https://localhost:8080/"
        },
        "id": "ZW2GP43eOSE3",
        "outputId": "20b6b7c9-70c3-4925-fc08-c018b31eb4b5"
      },
      "execution_count": 3,
      "outputs": [
        {
          "output_type": "stream",
          "name": "stdout",
          "text": [
            "Writing app.py\n"
          ]
        }
      ]
    },
    {
      "cell_type": "code",
      "source": [
        " ! pip install pyngrok"
      ],
      "metadata": {
        "colab": {
          "base_uri": "https://localhost:8080/"
        },
        "id": "TMinRNDlOhgc",
        "outputId": "a1ce6c97-d06c-4285-fb08-99fc25fb7b9e"
      },
      "execution_count": 4,
      "outputs": [
        {
          "output_type": "stream",
          "name": "stdout",
          "text": [
            "Looking in indexes: https://pypi.org/simple, https://us-python.pkg.dev/colab-wheels/public/simple/\n",
            "Collecting pyngrok\n",
            "  Downloading pyngrok-5.1.0.tar.gz (745 kB)\n",
            "\u001b[K     |████████████████████████████████| 745 kB 5.1 MB/s \n",
            "\u001b[?25hRequirement already satisfied: PyYAML in /usr/local/lib/python3.7/dist-packages (from pyngrok) (3.13)\n",
            "Building wheels for collected packages: pyngrok\n",
            "  Building wheel for pyngrok (setup.py) ... \u001b[?25l\u001b[?25hdone\n",
            "  Created wheel for pyngrok: filename=pyngrok-5.1.0-py3-none-any.whl size=19007 sha256=1455abd02548b3b01e7d3ee016bf0447e4a78effaceb8f302a80e064c7312bbc\n",
            "  Stored in directory: /root/.cache/pip/wheels/bf/e6/af/ccf6598ecefecd44104069371795cb9b3afbcd16987f6ccfb3\n",
            "Successfully built pyngrok\n",
            "Installing collected packages: pyngrok\n",
            "Successfully installed pyngrok-5.1.0\n"
          ]
        }
      ]
    },
    {
      "cell_type": "code",
      "source": [
        "from pyngrok import ngrok"
      ],
      "metadata": {
        "id": "rauVskriOoU5"
      },
      "execution_count": 5,
      "outputs": []
    },
    {
      "cell_type": "code",
      "source": [
        "ngrok.set_auth_token(\"2CCLE9yJmYV0kO1BLs9TsVCqyKr_3fgd6FL1Hd64oVchQYvqX\")"
      ],
      "metadata": {
        "colab": {
          "base_uri": "https://localhost:8080/"
        },
        "id": "UEOPwjxYOr8Q",
        "outputId": "dfb4b47f-1c2c-47c7-cf18-ab5c6a29bba7"
      },
      "execution_count": 6,
      "outputs": [
        {
          "output_type": "stream",
          "name": "stdout",
          "text": [
            ""
          ]
        }
      ]
    },
    {
      "cell_type": "code",
      "source": [
        "!nohup streamlit run app.py --server.port 80 &\n",
        "url = ngrok.connect(port = '80')\n",
        "print(url)"
      ],
      "metadata": {
        "colab": {
          "base_uri": "https://localhost:8080/"
        },
        "id": "xpreG1bdOt1o",
        "outputId": "c11f38b5-9c25-4a37-dc06-4d68e107ab3f"
      },
      "execution_count": 7,
      "outputs": [
        {
          "output_type": "stream",
          "name": "stdout",
          "text": [
            "nohup: appending output to 'nohup.out'\n",
            "NgrokTunnel: \"http://0c0d-35-231-249-148.ngrok.io\" -> \"http://localhost:80\"\n"
          ]
        }
      ]
    },
    {
      "cell_type": "code",
      "source": [
        "from pyngrok import ngrok\n",
        "\n",
        "tunnels = ngrok.get_tunnels()\n",
        "tunnels\n",
        "\n",
        "# try:\n",
        "#     # Block until CTRL-C or some other terminating event\n",
        "#     ngrok_process.proc.wait()\n",
        "# except KeyboardInterrupt:\n",
        "#     print(\" Shutting down server.\")\n",
        "\n",
        "#     ngrok.kill()"
      ],
      "metadata": {
        "colab": {
          "base_uri": "https://localhost:8080/"
        },
        "id": "NK5hpt-EOv_N",
        "outputId": "8bcb988a-426d-4397-d84b-ab84b5a4cce2"
      },
      "execution_count": 8,
      "outputs": [
        {
          "output_type": "execute_result",
          "data": {
            "text/plain": [
              "[<NgrokTunnel: \"http://0c0d-35-231-249-148.ngrok.io\" -> \"http://localhost:80\">,\n",
              " <NgrokTunnel: \"https://0c0d-35-231-249-148.ngrok.io\" -> \"http://localhost:80\">]"
            ]
          },
          "metadata": {},
          "execution_count": 8
        }
      ]
    },
    {
      "cell_type": "code",
      "source": [
        ""
      ],
      "metadata": {
        "id": "Tk-9jEMdOyf6"
      },
      "execution_count": null,
      "outputs": []
    }
  ]
}